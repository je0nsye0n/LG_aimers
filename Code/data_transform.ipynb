{
 "cells": [
  {
   "cell_type": "markdown",
   "metadata": {},
   "source": [
    "### 데이터 분석"
   ]
  },
  {
   "cell_type": "code",
   "execution_count": 47,
   "metadata": {},
   "outputs": [],
   "source": [
    "import pandas as pd\n",
    "import numpy as np\n",
    "\n",
    "from sklearn.preprocessing import  OrdinalEncoder\n",
    "from sklearn.ensemble import ExtraTreesClassifier"
   ]
  },
  {
   "cell_type": "code",
   "execution_count": 48,
   "metadata": {},
   "outputs": [],
   "source": [
    "train_data = pd.read_csv('./data/train.csv').drop(columns=['ID'])\n",
    "test_data = pd.read_csv('./data/test.csv').drop(columns=['ID'])"
   ]
  },
  {
   "cell_type": "code",
   "execution_count": 49,
   "metadata": {},
   "outputs": [
    {
     "name": "stdout",
     "output_type": "stream",
     "text": [
      "(256351, 68)\n"
     ]
    }
   ],
   "source": [
    "print(train_data.shape)"
   ]
  },
  {
   "cell_type": "code",
   "execution_count": 50,
   "metadata": {},
   "outputs": [
    {
     "name": "stdout",
     "output_type": "stream",
     "text": [
      "임신 시도 또는 마지막 임신 경과 연수    96.344855\n",
      "착상 전 유전 검사 사용 여부         98.939735\n",
      "PGD 시술 여부                99.149994\n",
      "PGS 시술 여부                99.247516\n",
      "난자 해동 경과일                99.439831\n",
      "배아 해동 경과일                84.252451\n",
      "dtype: float64\n"
     ]
    }
   ],
   "source": [
    "### 결측치가 많은 컬럼 찾기\n",
    "missing_data = train_data.isnull().sum() # 컬럼별 결측치 개수 확인\n",
    "missing_ratio = (missing_data) / len(train_data) * 100 # 결측치 비율 계산\n",
    "print(missing_ratio[missing_ratio>30])"
   ]
  },
  {
   "cell_type": "code",
   "execution_count": 51,
   "metadata": {},
   "outputs": [
    {
     "name": "stdout",
     "output_type": "stream",
     "text": [
      "범주형 변수 개수: 20\n",
      "Index(['시술 시기 코드', '시술 당시 나이', '시술 유형', '특정 시술 유형', '배란 유도 유형', '배아 생성 주요 이유',\n",
      "       '총 시술 횟수', '클리닉 내 총 시술 횟수', 'IVF 시술 횟수', 'DI 시술 횟수', '총 임신 횟수',\n",
      "       'IVF 임신 횟수', 'DI 임신 횟수', '총 출산 횟수', 'IVF 출산 횟수', 'DI 출산 횟수', '난자 출처',\n",
      "       '정자 출처', '난자 기증자 나이', '정자 기증자 나이'],\n",
      "      dtype='object')\n",
      "시술 시기 코드: 7개\n",
      "시술 당시 나이: 7개\n",
      "시술 유형: 2개\n",
      "특정 시술 유형: 24개\n",
      "배란 유도 유형: 4개\n",
      "배아 생성 주요 이유: 13개\n",
      "총 시술 횟수: 7개\n",
      "클리닉 내 총 시술 횟수: 7개\n",
      "IVF 시술 횟수: 7개\n",
      "DI 시술 횟수: 7개\n",
      "총 임신 횟수: 7개\n",
      "IVF 임신 횟수: 7개\n",
      "DI 임신 횟수: 6개\n",
      "총 출산 횟수: 7개\n",
      "IVF 출산 횟수: 6개\n",
      "DI 출산 횟수: 5개\n",
      "난자 출처: 3개\n",
      "정자 출처: 4개\n",
      "난자 기증자 나이: 5개\n",
      "정자 기증자 나이: 7개\n"
     ]
    }
   ],
   "source": [
    "### 범주형 변수 찾기\n",
    "categorical_columns = train_data.select_dtypes(include=['object']).columns\n",
    "\n",
    "# 범주형 변수 개수 출력\n",
    "print(f\"범주형 변수 개수: {len(categorical_columns)}\")\n",
    "print(categorical_columns)\n",
    "\n",
    "# 범주형 변수별 고유값 개수 출력\n",
    "for col in categorical_columns:\n",
    "    print(f\"{col}: {train_data[col].nunique()}개\")\n"
   ]
  },
  {
   "cell_type": "code",
   "execution_count": 52,
   "metadata": {},
   "outputs": [
    {
     "name": "stdout",
     "output_type": "stream",
     "text": [
      "       임신 시도 또는 마지막 임신 경과 연수       배란 자극 여부    단일 배아 이식 여부  착상 전 유전 검사 사용 여부  \\\n",
      "count            9370.000000  256351.000000  250060.000000            2718.0   \n",
      "mean                9.270651       0.771286       0.233476               1.0   \n",
      "std                 3.550313       0.420005       0.423043               0.0   \n",
      "min                 0.000000       0.000000       0.000000               1.0   \n",
      "25%                 7.000000       1.000000       0.000000               1.0   \n",
      "50%                 9.000000       1.000000       0.000000               1.0   \n",
      "75%                11.000000       1.000000       0.000000               1.0   \n",
      "max                20.000000       1.000000       1.000000               1.0   \n",
      "\n",
      "       착상 전 유전 진단 사용 여부     남성 주 불임 원인     남성 부 불임 원인     여성 주 불임 원인  \\\n",
      "count     250060.000000  256351.000000  256351.000000  256351.000000   \n",
      "mean           0.012781       0.028516       0.013115       0.030724   \n",
      "std            0.112328       0.166441       0.113767       0.172568   \n",
      "min            0.000000       0.000000       0.000000       0.000000   \n",
      "25%            0.000000       0.000000       0.000000       0.000000   \n",
      "50%            0.000000       0.000000       0.000000       0.000000   \n",
      "75%            0.000000       0.000000       0.000000       0.000000   \n",
      "max            1.000000       1.000000       1.000000       1.000000   \n",
      "\n",
      "          여성 부 불임 원인     부부 주 불임 원인  ...    기증 배아 사용 여부         대리모 여부  \\\n",
      "count  256351.000000  256351.000000  ...  250060.000000  250060.000000   \n",
      "mean        0.012432       0.033068  ...       0.009830       0.004195   \n",
      "std         0.110805       0.178814  ...       0.098656       0.064633   \n",
      "min         0.000000       0.000000  ...       0.000000       0.000000   \n",
      "25%         0.000000       0.000000  ...       0.000000       0.000000   \n",
      "50%         0.000000       0.000000  ...       0.000000       0.000000   \n",
      "75%         0.000000       0.000000  ...       0.000000       0.000000   \n",
      "max         1.000000       1.000000  ...       1.000000       1.000000   \n",
      "\n",
      "       PGD 시술 여부  PGS 시술 여부  난자 채취 경과일    난자 해동 경과일      난자 혼합 경과일  \\\n",
      "count     2179.0     1929.0   198863.0  1436.000000  202616.000000   \n",
      "mean         1.0        1.0        0.0     0.001393       0.005385   \n",
      "std          0.0        0.0        0.0     0.037307       0.111504   \n",
      "min          1.0        1.0        0.0     0.000000       0.000000   \n",
      "25%          1.0        1.0        0.0     0.000000       0.000000   \n",
      "50%          1.0        1.0        0.0     0.000000       0.000000   \n",
      "75%          1.0        1.0        0.0     0.000000       0.000000   \n",
      "max          1.0        1.0        0.0     1.000000       7.000000   \n",
      "\n",
      "           배아 이식 경과일     배아 해동 경과일       임신 성공 여부  \n",
      "count  212785.000000  40369.000000  256351.000000  \n",
      "mean        3.254741      0.045629       0.258349  \n",
      "std         1.715697      0.418672       0.437728  \n",
      "min         0.000000      0.000000       0.000000  \n",
      "25%         2.000000      0.000000       0.000000  \n",
      "50%         3.000000      0.000000       0.000000  \n",
      "75%         5.000000      0.000000       1.000000  \n",
      "max         7.000000      7.000000       1.000000  \n",
      "\n",
      "[8 rows x 48 columns]\n"
     ]
    }
   ],
   "source": [
    "### 데이터 분포 확인\n",
    "print(train_data.describe())"
   ]
  },
  {
   "cell_type": "markdown",
   "metadata": {},
   "source": [
    "### 결측 데이터 제거"
   ]
  },
  {
   "cell_type": "code",
   "execution_count": 53,
   "metadata": {},
   "outputs": [],
   "source": [
    "train_data = train_data.drop(columns=['임신 시도 또는 마지막 임신 경과 연수'])\n",
    "train_data = train_data.drop(columns=['착상 전 유전 검사 사용 여부'])\n",
    "train_data = train_data.drop(columns=['PGD 시술 여부'])\n",
    "train_data = train_data.drop(columns=['PGS 시술 여부'])\n",
    "train_data = train_data.drop(columns=['난자 해동 경과일'])"
   ]
  },
  {
   "cell_type": "code",
   "execution_count": 54,
   "metadata": {},
   "outputs": [
    {
     "name": "stdout",
     "output_type": "stream",
     "text": [
      "(256351, 63)\n"
     ]
    }
   ],
   "source": [
    "print(train_data.shape)"
   ]
  },
  {
   "cell_type": "markdown",
   "metadata": {},
   "source": [
    "### 범주 데이터 형태 변환"
   ]
  },
  {
   "cell_type": "code",
   "execution_count": 55,
   "metadata": {},
   "outputs": [
    {
     "name": "stdout",
     "output_type": "stream",
     "text": [
      "  시술 당시 나이 시술 유형  특정 시술 유형  배란 자극 여부  배란 유도 유형  단일 배아 이식 여부  착상 전 유전 진단 사용 여부  \\\n",
      "0  만18-34세   IVF  0.272825         1         0          0.0               0.0   \n",
      "1  만45-50세   IVF  0.272825         0         3          0.0               0.0   \n",
      "2  만18-34세   IVF  0.261457         1         0          0.0               0.0   \n",
      "3  만35-37세   IVF  0.272825         1         0          0.0               0.0   \n",
      "4  만18-34세   IVF  0.272825         1         0          0.0               0.0   \n",
      "\n",
      "   남성 주 불임 원인  남성 부 불임 원인  여성 주 불임 원인  ...  총 임신 횟수_3회  총 임신 횟수_4회  \\\n",
      "0           0           0           0  ...       False       False   \n",
      "1           0           0           0  ...       False       False   \n",
      "2           0           0           0  ...       False       False   \n",
      "3           0           0           0  ...       False       False   \n",
      "4           0           0           0  ...       False       False   \n",
      "\n",
      "   총 임신 횟수_5회  총 임신 횟수_6회 이상  총 출산 횟수_1회  총 출산 횟수_2회  총 출산 횟수_3회  총 출산 횟수_4회  \\\n",
      "0       False          False       False       False       False       False   \n",
      "1       False          False       False       False       False       False   \n",
      "2       False          False       False       False       False       False   \n",
      "3       False          False       False       False       False       False   \n",
      "4       False          False       False       False       False       False   \n",
      "\n",
      "   총 출산 횟수_5회  총 출산 횟수_6회 이상  \n",
      "0       False          False  \n",
      "1       False          False  \n",
      "2       False          False  \n",
      "3       False          False  \n",
      "4       False          False  \n",
      "\n",
      "[5 rows x 86 columns]\n"
     ]
    }
   ],
   "source": [
    "import pandas as pd\n",
    "from sklearn.preprocessing import LabelEncoder\n",
    "\n",
    "# ✅ (1) Label Encoding (이진형 변수)\n",
    "le = LabelEncoder()\n",
    "train_data['배란 유도 유형'] = le.fit_transform(train_data['배란 유도 유형'])\n",
    "\n",
    "# ✅ (2) One-Hot Encoding (고유값 개수 10개 이하)\n",
    "train_data = pd.get_dummies(train_data, columns=['난자 출처', '정자 출처', '시술 시기 코드', \n",
    "                                                 '총 시술 횟수', '총 임신 횟수', '총 출산 횟수'], drop_first=True)\n",
    "\n",
    "# ✅ (3) Target Encoding (고유값 개수 10개 이상)\n",
    "mean_target = train_data.groupby('특정 시술 유형')['임신 성공 여부'].mean()\n",
    "train_data['특정 시술 유형'] = train_data['특정 시술 유형'].map(mean_target)\n",
    "\n",
    "# ✅ (4) 숫자로 변환 가능한 컬럼 처리\n",
    "train_data['난자 기증자 나이'] = pd.to_numeric(train_data['난자 기증자 나이'], errors='coerce')\n",
    "train_data['정자 기증자 나이'] = pd.to_numeric(train_data['정자 기증자 나이'], errors='coerce')\n",
    "\n",
    "# ✅ 변환 완료된 데이터 확인\n",
    "print(train_data.head())"
   ]
  },
  {
   "cell_type": "code",
   "execution_count": 56,
   "metadata": {},
   "outputs": [
    {
     "name": "stdout",
     "output_type": "stream",
     "text": [
      "(256351, 86)\n"
     ]
    }
   ],
   "source": [
    "print(train_data.shape)"
   ]
  }
 ],
 "metadata": {
  "kernelspec": {
   "display_name": "base",
   "language": "python",
   "name": "python3"
  },
  "language_info": {
   "codemirror_mode": {
    "name": "ipython",
    "version": 3
   },
   "file_extension": ".py",
   "mimetype": "text/x-python",
   "name": "python",
   "nbconvert_exporter": "python",
   "pygments_lexer": "ipython3",
   "version": "3.11.7"
  }
 },
 "nbformat": 4,
 "nbformat_minor": 2
}
